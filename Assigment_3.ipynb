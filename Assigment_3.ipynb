{
 "cells": [
  {
   "cell_type": "markdown",
   "metadata": {},
   "source": [
    "### 1.Write a Python function to find the Max of three numbers.\n"
   ]
  },
  {
   "cell_type": "code",
   "execution_count": 9,
   "metadata": {},
   "outputs": [
    {
     "name": "stdout",
     "output_type": "stream",
     "text": [
      "Largest number among  the three is 25\n"
     ]
    }
   ],
   "source": [
    "def max(n1,n2,n3):\n",
    "\n",
    "    if(n1>=n2) and (n1>=n3):\n",
    "\n",
    "        l=n1\n",
    "\n",
    "    elif(n2>=n1) and (n2>=n3):\n",
    "\n",
    "         l=n2\n",
    "\n",
    "    else:\n",
    "\n",
    "         l=n3\n",
    "\n",
    "    print(\"Largest number among  the three is\",l)\n",
    "\n",
    "max(20,22,25)"
   ]
  },
  {
   "cell_type": "markdown",
   "metadata": {},
   "source": [
    "### 2. Write a Python function to multiply all the numbers in a list"
   ]
  },
  {
   "cell_type": "code",
   "execution_count": 24,
   "metadata": {},
   "outputs": [
    {
     "name": "stdout",
     "output_type": "stream",
     "text": [
      "24\n"
     ]
    }
   ],
   "source": [
    "def multiply(numbers):  \n",
    "    total = 1\n",
    "    for n in numbers:\n",
    "        total *= n  \n",
    "    return total  \n",
    "print(multiply((1, 2, 3,4)))"
   ]
  },
  {
   "cell_type": "markdown",
   "metadata": {},
   "source": [
    "### 3. Write a Python function that accepts a string and calculate the number of upper case letters and lower case letters"
   ]
  },
  {
   "cell_type": "code",
   "execution_count": 39,
   "metadata": {},
   "outputs": [],
   "source": [
    "def find(string):\n",
    "    r={'u_case':0, 'l_case':0}\n",
    "    for i in string:\n",
    " \n",
    "        if i.isupper():\n",
    "            r['u_case']+=1\n",
    "        elif i.islower():\n",
    "            r['l_case']+=1\n",
    "        else:\n",
    "            pass\n",
    "    print (\"Your entered String : \", string)\n",
    "    print('The no of UPPER CASE letter ',r['u_case'])\n",
    "    print('The no of LOWER CASE letter ',r['l_case'])\n"
   ]
  },
  {
   "cell_type": "code",
   "execution_count": 40,
   "metadata": {},
   "outputs": [
    {
     "name": "stdout",
     "output_type": "stream",
     "text": [
      "Your entered String :  CalCulate Upper Case & Lower Case LetteR\n",
      "The no of UPPER CASE letter  8\n",
      "The no of LOWER CASE letter  25\n"
     ]
    }
   ],
   "source": [
    "find('CalCulate Upper Case & Lower Case LetteR')"
   ]
  },
  {
   "cell_type": "markdown",
   "metadata": {},
   "source": [
    "### 4. Write a Python function that checks whether a passed string is palindrome or not"
   ]
  },
  {
   "cell_type": "code",
   "execution_count": 46,
   "metadata": {},
   "outputs": [
    {
     "name": "stdout",
     "output_type": "stream",
     "text": [
      "Enter any string: aza\n",
      "yes\n"
     ]
    }
   ],
   "source": [
    "def isPalindrome(s):\n",
    "    s=s.lower()\n",
    "    return s==s[::-1]\n",
    "s=input('Enter any string: ')\n",
    "ans=isPalindrome(s)\n",
    "if ans:\n",
    "    print('yes')\n",
    "else:\n",
    "    print('no')\n"
   ]
  },
  {
   "cell_type": "markdown",
   "metadata": {},
   "source": [
    "### 5.Write a Python program to print the even numbers from a given list"
   ]
  },
  {
   "cell_type": "code",
   "execution_count": 49,
   "metadata": {},
   "outputs": [
    {
     "name": "stdout",
     "output_type": "stream",
     "text": [
      "10 12 14 16 18 20 22 24 "
     ]
    }
   ],
   "source": [
    "start, end = 10, 25\n",
    "for num in range(start, end + 1):\n",
    "    if num % 2 == 0:\n",
    "        print(num, end = \" \")"
   ]
  },
  {
   "cell_type": "code",
   "execution_count": null,
   "metadata": {},
   "outputs": [],
   "source": []
  }
 ],
 "metadata": {
  "kernelspec": {
   "display_name": "Python 3",
   "language": "python",
   "name": "python3"
  },
  "language_info": {
   "codemirror_mode": {
    "name": "ipython",
    "version": 3
   },
   "file_extension": ".py",
   "mimetype": "text/x-python",
   "name": "python",
   "nbconvert_exporter": "python",
   "pygments_lexer": "ipython3",
   "version": "3.7.6"
  }
 },
 "nbformat": 4,
 "nbformat_minor": 4
}
